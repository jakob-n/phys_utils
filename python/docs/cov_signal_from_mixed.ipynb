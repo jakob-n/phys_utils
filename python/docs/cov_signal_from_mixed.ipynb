{
 "cells": [
  {
   "cell_type": "markdown",
   "metadata": {},
   "source": [
    "# Problem\n",
    "\n",
    "The problem at hand is to calculate the covarince resp. the correlation matrix of a signal sample, which has been mixed with a background sample and the true knowledge of which events belong to signal and which belong to background is not present. If it is possible to determine the fraction of signal in the mixed sample as well as the means and the covariance of the background sample the presented way allows to estimate the covariance (and thus the correlation) of the signal sample from the mixed sample.\n",
    "\n",
    "A problem where all these statements apply is one where a discriminating variable can be used to split the mixed sample into one or more regions with pure background and into a region where signal and background are mixed. One sort of problems that go into this direction are in physics, where often the mass is used as discriminating variable, which allows to define signal regions and mass sidebands. It is often possible to describe the shape of the background as a function of the mass in this kind of problems, which allows to do in many cases some sort of background subtraction. Two possible ways of doing such a background subtraction are:\n",
    "\n",
    "1. To get the signal distribution of a given variable the distribution of the variable in the signal sample is determined and from this distribution the distribution of the background (determined in the mass sidebands) is subtracted with the appropriate weight, which is in this case the fraction of background in the signal region.\n",
    "2. To get the signal distribution of a given variable all events are used, but the events in the mass sidebands are weighted negatively, where the weight again has to be chosen appropriately, taking into account how many background events are expected in the signal region.\n",
    "\n",
    "Both procedures are in principle equivalent and can be used to determine any (joint) distribution of any variable(s) of the signal. However, there are some caveates when it comes to determine correlations between the variables. The main one is that both require a binning of the variables that should be considered, which can lead to only sparsely populated bins if the number of available events is low. Furthermore it is possible that some bins have negative entries, thus the distribution is no longer real, but this can be mitigated by manually setting these bins to 0, as their number should be low (given that the weights have been correctly computed).\n",
    "\n",
    "The method presented in the following allows to calculate the correlation of the variables in the signal using only the knowledge of the fraction of signal in the mixed sample and the covariance and means of the background sample. It circumvents the problem of having to use negative weights in the calculation of a weighted covariance, which is probably not well defined.\n",
    "\n",
    "# Symbolic calculations\n",
    "\n",
    "## Definition of symbols\n",
    "Define some symbols, denote the $\\mu$ vectors as non-commutative for the correct behaviour. $C_S$ and $C_B$ are symmetric matrices, thus they need not be declared as non-commutative ($A = A^T$ for symmetric matrices).\n",
    "\n",
    "In principle sympy should also support some symbolic computations using matrices, but as far as I understood the documentation that only works with fixed dimensions (not really a problem here) and the support for simplification, etc. is not as far as is for \"normal\" symbols.\n",
    "\n",
    "The defined symbols are:\n",
    "- $p = \\frac{n_S}{n}$, the fraction of signal events, with $(1-p) = \\frac{n_B}{n}$ the fraction of background events in the mixed sample\n",
    "- $\\mu_{S},\\mu_B,\\mu$, the vector of the means of the signal, the background, resp. the mixed sample\n",
    "- $C_{S}, C_B$, the covariance matrices of the signal, resp. background sample\n",
    "\n",
    "The $\\mu$ vectors have to be defined twice, to have a transposed version as well."
   ]
  },
  {
   "cell_type": "code",
   "execution_count": 1,
   "metadata": {
    "collapsed": true
   },
   "outputs": [],
   "source": [
    "import sympy as sp\n",
    "sp.init_printing()"
   ]
  },
  {
   "cell_type": "code",
   "execution_count": 2,
   "metadata": {
    "collapsed": true
   },
   "outputs": [],
   "source": [
    "C_S = sp.Symbol('C_S')\n",
    "C_B = sp.Symbol('C_B')\n",
    "C = sp.Symbol('C')\n",
    "p = sp.Symbol('p', real=True)\n",
    "mu = sp.Symbol('mu', commutative=False)\n",
    "muT = sp.Symbol('mu^T', commutative=False)\n",
    "mu_B = sp.Symbol('mu_B', commutative=False)\n",
    "mu_BT = sp.Symbol('mu_B^T', commutative=False)"
   ]
  },
  {
   "cell_type": "markdown",
   "metadata": {},
   "source": [
    "$\\mu_S$ can be calculated from $\\mu$ and $\\mu_B$ since $\\mu:=E[x]=p\\cdot\\mu_S + (1-p)\\cdot\\mu_B \\rightarrow \\mu_S = \\frac{1}{p}(\\mu - (1-p)\\mu_B)$"
   ]
  },
  {
   "cell_type": "code",
   "execution_count": 3,
   "metadata": {
    "collapsed": true
   },
   "outputs": [],
   "source": [
    "mu_S = 1/p * mu - (1-p)/p * mu_B\n",
    "mu_ST = 1/p * muT - (1-p)/p * mu_BT"
   ]
  },
  {
   "cell_type": "markdown",
   "metadata": {},
   "source": [
    "### Covariance matrix of the mixed sample\n",
    "\n",
    "\n",
    "$$C = p\\cdot(C_S + \\mu_S\\mu_S^T) + (1-p)\\cdot(C_B + \\mu_B\\,u_B^T) - (p\\mu_S + (1-p)\\mu_B)(p\\mu_S^T + (1-p)\\mu_B^T)$$"
   ]
  },
  {
   "cell_type": "code",
   "execution_count": 4,
   "metadata": {
    "collapsed": true
   },
   "outputs": [],
   "source": [
    "cov = p * (C_S + mu_S*mu_ST) + (1-p)*(C_B + mu_B*mu_BT) - (p * mu_S + (1 - p) * mu_B) * (p * mu_ST + (1 - p) * mu_BT)"
   ]
  },
  {
   "cell_type": "code",
   "execution_count": 5,
   "metadata": {},
   "outputs": [
    {
     "data": {
      "image/png": "[encoded data removed]",
      "text/latex": [
       "$$p \\left(C_{S} + \\left(- \\frac{\\mu_{B}}{p} \\left(- p + 1\\right) + \\frac{\\mu}{p}\\right) \\left(- \\frac{\\mu^{T}_{B}}{p} \\left(- p + 1\\right) + \\frac{\\mu^{T}}{p}\\right)\\right) + \\left(- p + 1\\right) \\left(C_{B} + \\mu_{B} \\mu^{T}_{B}\\right) - \\left(p \\left(- \\frac{\\mu_{B}}{p} \\left(- p + 1\\right) + \\frac{\\mu}{p}\\right) + \\left(- p + 1\\right) \\mu_{B}\\right) \\left(p \\left(- \\frac{\\mu^{T}_{B}}{p} \\left(- p + 1\\right) + \\frac{\\mu^{T}}{p}\\right) + \\left(- p + 1\\right) \\mu^{T}_{B}\\right)$$"
      ],
      "text/plain": [
       "  ⎛      ⎛  (-p + 1)⋅μ_B   μ⎞ ⎛  (-p + 1)⋅μ_B__T   μ__T⎞⎞                     \n",
       "p⋅⎜C_S + ⎜- ──────────── + ─⎟⋅⎜- ─────────────── + ────⎟⎟ + (-p + 1)⋅(C_B + μ_\n",
       "  ⎝      ⎝       p         p⎠ ⎝         p           p  ⎠⎠                     \n",
       "\n",
       "            ⎛  ⎛  (-p + 1)⋅μ_B   μ⎞               ⎞ ⎛  ⎛  (-p + 1)⋅μ_B__T   μ_\n",
       "B⋅μ_B__T) - ⎜p⋅⎜- ──────────── + ─⎟ + (-p + 1)⋅μ_B⎟⋅⎜p⋅⎜- ─────────────── + ──\n",
       "            ⎝  ⎝       p         p⎠               ⎠ ⎝  ⎝         p           p\n",
       "\n",
       "_T⎞                  ⎞\n",
       "──⎟ + (-p + 1)⋅μ_B__T⎟\n",
       "  ⎠                  ⎠"
      ]
     },
     "execution_count": 5,
     "metadata": {},
     "output_type": "execute_result"
    }
   ],
   "source": [
    "cov"
   ]
  },
  {
   "cell_type": "code",
   "execution_count": 6,
   "metadata": {
    "collapsed": true
   },
   "outputs": [],
   "source": [
    "arguments = (C_S, C_B, mu*muT, mu_B*mu_BT, mu * mu_BT, mu_B * muT) # define list of arguments to collect"
   ]
  },
  {
   "cell_type": "markdown",
   "metadata": {},
   "source": [
    "After doing some expanding and collecting of terms, the result looks like this:"
   ]
  },
  {
   "cell_type": "code",
   "execution_count": 7,
   "metadata": {},
   "outputs": [
    {
     "data": {
      "image/png": "[encoded data removed]",
      "text/latex": [
       "$$C_{B} \\left(- p + 1\\right) + C_{S} p + \\left(-1 + \\frac{1}{p}\\right) \\mu \\mu^{T} + \\left(-1 + \\frac{1}{p}\\right) \\mu_{B} \\mu^{T}_{B} + \\left(1 - \\frac{1}{p}\\right) \\mu \\mu^{T}_{B} + \\left(1 - \\frac{1}{p}\\right) \\mu_{B} \\mu^{T}$$"
      ],
      "text/plain": [
       "                       ⎛     1⎞          ⎛     1⎞              ⎛    1⎞        \n",
       "C_B⋅(-p + 1) + C_S⋅p + ⎜-1 + ─⎟⋅μ⋅μ__T + ⎜-1 + ─⎟⋅μ_B⋅μ_B__T + ⎜1 - ─⎟⋅μ⋅μ_B__\n",
       "                       ⎝     p⎠          ⎝     p⎠              ⎝    p⎠        \n",
       "\n",
       "    ⎛    1⎞         \n",
       "T + ⎜1 - ─⎟⋅μ_B⋅μ__T\n",
       "    ⎝    p⎠         "
      ]
     },
     "execution_count": 7,
     "metadata": {},
     "output_type": "execute_result"
    }
   ],
   "source": [
    "C_coll = sp.collect(sp.expand(cov), arguments)\n",
    "C_coll"
   ]
  },
  {
   "cell_type": "markdown",
   "metadata": {},
   "source": [
    "### Cross check calculation\n",
    "\n",
    "To check if sympy does the calculation correctly, it is repeated here in a step by step fashion, that is easier to follow along manually. First all terms containing $\\mu_S$ are expanded and then simplified as far as possible. After that a manually expanded $C$ is used into which these terms are inserted."
   ]
  },
  {
   "cell_type": "code",
   "execution_count": 8,
   "metadata": {
    "collapsed": true
   },
   "outputs": [],
   "source": [
    "T1 = sp.collect(sp.expand(p**2 * mu_S * mu_ST), arguments)\n",
    "\n",
    "T2 = sp.collect(sp.expand(p * mu_S * mu_ST), arguments)\n",
    "\n",
    "T3 = sp.collect(sp.expand(p * mu_S * (1 - p) * mu_BT), arguments)\n",
    "\n",
    "T4 = sp.collect(sp.expand((1 - p)*p * mu_B * mu_ST), arguments)"
   ]
  },
  {
   "cell_type": "code",
   "execution_count": 9,
   "metadata": {},
   "outputs": [
    {
     "data": {
      "image/png": "[encoded data removed]",
      "text/latex": [
       "$$\\left(p - 1\\right) \\mu \\mu^{T}_{B} + \\left(p - 1\\right) \\mu_{B} \\mu^{T} + \\left(p^{2} - 2 p + 1\\right) \\mu_{B} \\mu^{T}_{B} + \\mu \\mu^{T}$$"
      ],
      "text/plain": [
       "                                      ⎛ 2          ⎞                    \n",
       "(p - 1)⋅μ⋅μ_B__T + (p - 1)⋅μ_B⋅μ__T + ⎝p  - 2⋅p + 1⎠⋅μ_B⋅μ_B__T + μ⋅μ__T"
      ]
     },
     "execution_count": 9,
     "metadata": {},
     "output_type": "execute_result"
    }
   ],
   "source": [
    "T1"
   ]
  },
  {
   "cell_type": "code",
   "execution_count": 10,
   "metadata": {},
   "outputs": [
    {
     "data": {
      "image/png": "[encoded data removed]",
      "text/latex": [
       "$$\\left(1 - \\frac{1}{p}\\right) \\mu \\mu^{T}_{B} + \\left(1 - \\frac{1}{p}\\right) \\mu_{B} \\mu^{T} + \\left(p - 2 + \\frac{1}{p}\\right) \\mu_{B} \\mu^{T}_{B} + \\frac{\\mu \\mu^{T}}{p}$$"
      ],
      "text/plain": [
       "⎛    1⎞            ⎛    1⎞            ⎛        1⎞              μ⋅μ__T\n",
       "⎜1 - ─⎟⋅μ⋅μ_B__T + ⎜1 - ─⎟⋅μ_B⋅μ__T + ⎜p - 2 + ─⎟⋅μ_B⋅μ_B__T + ──────\n",
       "⎝    p⎠            ⎝    p⎠            ⎝        p⎠                p   "
      ]
     },
     "execution_count": 10,
     "metadata": {},
     "output_type": "execute_result"
    }
   ],
   "source": [
    "T2"
   ]
  },
  {
   "cell_type": "code",
   "execution_count": 11,
   "metadata": {},
   "outputs": [
    {
     "data": {
      "image/png": "[encoded data removed]",
      "text/latex": [
       "$$\\left(- p + 1\\right) \\mu \\mu^{T}_{B} + \\left(- p^{2} + 2 p - 1\\right) \\mu_{B} \\mu^{T}_{B}$$"
      ],
      "text/plain": [
       "                    ⎛   2          ⎞           \n",
       "(-p + 1)⋅μ⋅μ_B__T + ⎝- p  + 2⋅p - 1⎠⋅μ_B⋅μ_B__T"
      ]
     },
     "execution_count": 11,
     "metadata": {},
     "output_type": "execute_result"
    }
   ],
   "source": [
    "T3"
   ]
  },
  {
   "cell_type": "code",
   "execution_count": 12,
   "metadata": {},
   "outputs": [
    {
     "data": {
      "image/png": "[encoded data removed]",
      "text/latex": [
       "$$\\left(- p + 1\\right) \\mu_{B} \\mu^{T} + \\left(- p^{2} + 2 p - 1\\right) \\mu_{B} \\mu^{T}_{B}$$"
      ],
      "text/plain": [
       "                    ⎛   2          ⎞           \n",
       "(-p + 1)⋅μ_B⋅μ__T + ⎝- p  + 2⋅p - 1⎠⋅μ_B⋅μ_B__T"
      ]
     },
     "execution_count": 12,
     "metadata": {},
     "output_type": "execute_result"
    }
   ],
   "source": [
    "T4"
   ]
  },
  {
   "cell_type": "code",
   "execution_count": 13,
   "metadata": {},
   "outputs": [
    {
     "data": {
      "image/png": "[encoded data removed]",
      "text/latex": [
       "$$C_{B} \\left(- p + 1\\right) + C_{S} p + \\left(-1 + \\frac{1}{p}\\right) \\mu \\mu^{T} + \\left(-1 + \\frac{1}{p}\\right) \\mu_{B} \\mu^{T}_{B} + \\left(1 - \\frac{1}{p}\\right) \\mu \\mu^{T}_{B} + \\left(1 - \\frac{1}{p}\\right) \\mu_{B} \\mu^{T}$$"
      ],
      "text/plain": [
       "                       ⎛     1⎞          ⎛     1⎞              ⎛    1⎞        \n",
       "C_B⋅(-p + 1) + C_S⋅p + ⎜-1 + ─⎟⋅μ⋅μ__T + ⎜-1 + ─⎟⋅μ_B⋅μ_B__T + ⎜1 - ─⎟⋅μ⋅μ_B__\n",
       "                       ⎝     p⎠          ⎝     p⎠              ⎝    p⎠        \n",
       "\n",
       "    ⎛    1⎞         \n",
       "T + ⎜1 - ─⎟⋅μ_B⋅μ__T\n",
       "    ⎝    p⎠         "
      ]
     },
     "execution_count": 13,
     "metadata": {},
     "output_type": "execute_result"
    }
   ],
   "source": [
    "FT = p*C_S + T2 + (1-p) * C_B + (1-p) * mu_B*mu_BT - T1 - T3 - T4 - (1-p)**2 * mu_B * mu_BT\n",
    "sp.collect(sp.expand(FT), arguments)"
   ]
  },
  {
   "cell_type": "markdown",
   "metadata": {},
   "source": [
    "This is the same result as above, with the only difference that the intermediate terms have been manually checked.\n",
    "\n",
    "## Covariance of the signal\n",
    "Unfortunately sympy (or more probably me in combination with sympy) can't solve for $C_S$, so that exercise has to be done manually, which is not all that hard luckily:\n",
    "\n",
    "$$C_S = \\frac{1}{p}[C - (1-p)C_B - \\frac{1-p}{p}\\mu\\mu^T - \\frac{1-p}{p}\\mu_B\\mu_B^T - \\frac{p-1}{p}\\mu\\mu_B^T - \\frac{p-1}{p}\\mu_B\\mu^T] $$"
   ]
  },
  {
   "cell_type": "markdown",
   "metadata": {},
   "source": [
    "# Toy Test\n",
    "\n",
    "To check if the calculations from above make any sense a quick toy test is performed. Two samples are randomly drawn from a multivariate normal distribution, with different means, and covariance matrices."
   ]
  },
  {
   "cell_type": "code",
   "execution_count": 14,
   "metadata": {
    "collapsed": true
   },
   "outputs": [],
   "source": [
    "%matplotlib inline\n",
    "import matplotlib.pyplot as plt\n",
    "import numpy as np"
   ]
  },
  {
   "cell_type": "markdown",
   "metadata": {},
   "source": [
    "Parameters of the two samples"
   ]
  },
  {
   "cell_type": "code",
   "execution_count": 15,
   "metadata": {
    "collapsed": true
   },
   "outputs": [],
   "source": [
    "mu_sig = [0, 2]\n",
    "c_sig = [[3,-0.5],[-0.5, 2]]\n",
    "n_sig = 12000\n",
    "mu_bkg = [2, 3]\n",
    "c_bkg = [[2, 0.5], [0.5, 1]]\n",
    "n_bkg = 25000\n",
    "\n",
    "p = float(n_sig) / (n_sig + n_bkg)"
   ]
  },
  {
   "cell_type": "code",
   "execution_count": 16,
   "metadata": {
    "collapsed": true
   },
   "outputs": [],
   "source": [
    "ssig = np.random.multivariate_normal(mu_sig, c_sig, (n_sig))\n",
    "sbkg = np.random.multivariate_normal(mu_bkg, c_bkg, (n_bkg))"
   ]
  },
  {
   "cell_type": "markdown",
   "metadata": {},
   "source": [
    "Create mixed sample by appending the two samples from above to each other"
   ]
  },
  {
   "cell_type": "code",
   "execution_count": 17,
   "metadata": {
    "collapsed": true
   },
   "outputs": [],
   "source": [
    "sample = np.append(ssig, sbkg, axis=0)"
   ]
  },
  {
   "cell_type": "code",
   "execution_count": 18,
   "metadata": {},
   "outputs": [
    {
     "data": {
      "image/png": "[encoded data removed]",
      "text/plain": [
       "<matplotlib.figure.Figure at 0x7f07f4f6a150>"
      ]
     },
     "metadata": {},
     "output_type": "display_data"
    }
   ],
   "source": [
    "fig = plt.figure(1, figsize=(15,5))\n",
    "plt.subplot(131)\n",
    "_,_,_,h2d_bkg = plt.hist2d(ssig[:,0], ssig[:,1], bins=25)\n",
    "plt.title('signal')\n",
    "plt.subplot(132)\n",
    "_,_,_,h2d_sig = plt.hist2d(sbkg[:,0], sbkg[:,1], bins=25)\n",
    "plt.title('background')\n",
    "plt.subplot(133)\n",
    "plt.title('mixed')\n",
    "_,_,_,h2d_smp = plt.hist2d(sample[:,0], sample[:,1], bins=25)"
   ]
  },
  {
   "cell_type": "markdown",
   "metadata": {},
   "source": [
    "Define function that calculates the signal covariance matrix from the mixed sample using only information that can be inferred from the mixed sample and the knowledge of the means and the covariance matrix of the background sample and $p$."
   ]
  },
  {
   "cell_type": "code",
   "execution_count": 19,
   "metadata": {
    "collapsed": true
   },
   "outputs": [],
   "source": [
    "from utils.statistics import sig_cov, sig_corr"
   ]
  },
  {
   "cell_type": "markdown",
   "metadata": {},
   "source": [
    "Calculate covariance matrix of signal sample from mixed sample and the necessary information of the background sample"
   ]
  },
  {
   "cell_type": "code",
   "execution_count": 20,
   "metadata": {
    "collapsed": true
   },
   "outputs": [],
   "source": [
    "cov_sig_sample = sig_cov(sample.T, np.average(sbkg.T, axis=1), np.cov(sbkg.T), p)"
   ]
  },
  {
   "cell_type": "markdown",
   "metadata": {},
   "source": [
    "Check the deviation from the covariance matrix of the signal sample"
   ]
  },
  {
   "cell_type": "code",
   "execution_count": 21,
   "metadata": {},
   "outputs": [
    {
     "data": {
      "text/plain": [
       "array([[ -1.51023995e-04,   5.18475520e-05],\n",
       "       [  5.18475520e-05,  -1.21063985e-04]])"
      ]
     },
     "execution_count": 21,
     "metadata": {},
     "output_type": "execute_result"
    }
   ],
   "source": [
    "cov_sig_sample - np.cov(ssig.T)"
   ]
  },
  {
   "cell_type": "code",
   "execution_count": 22,
   "metadata": {
    "scrolled": true
   },
   "outputs": [
    {
     "data": {
      "text/plain": [
       "array([[ 2.99660471, -0.51154816],\n",
       "       [-0.51154816,  1.99675765]])"
      ]
     },
     "execution_count": 22,
     "metadata": {},
     "output_type": "execute_result"
    }
   ],
   "source": [
    "np.cov(ssig.T)"
   ]
  },
  {
   "cell_type": "code",
   "execution_count": 23,
   "metadata": {},
   "outputs": [
    {
     "data": {
      "text/plain": [
       "array([[ 2.99645368, -0.51149631],\n",
       "       [-0.51149631,  1.99663658]])"
      ]
     },
     "execution_count": 23,
     "metadata": {},
     "output_type": "execute_result"
    }
   ],
   "source": [
    "cov_sig_sample"
   ]
  },
  {
   "cell_type": "markdown",
   "metadata": {},
   "source": [
    "# Correlation coefficients\n",
    "\n",
    "The correlation coefficients are calculated from the covariance matrix via\n",
    "\n",
    "$$ \\text{corr}(X) = \\text{diag}(C)^{-1/2}C\\text{diag}(C)^{-1/2} $$\n",
    "\n",
    "where $\\text{diag}(C)$ is the matrix of the diagonal elements of $C$ and $C$ is the covariance matrix"
   ]
  },
  {
   "cell_type": "code",
   "execution_count": 24,
   "metadata": {
    "scrolled": true
   },
   "outputs": [
    {
     "data": {
      "text/plain": [
       "array([[ 1.        , -0.20912652],\n",
       "       [-0.20912652,  1.        ]])"
      ]
     },
     "execution_count": 24,
     "metadata": {},
     "output_type": "execute_result"
    }
   ],
   "source": [
    "np.corrcoef(ssig.T)"
   ]
  },
  {
   "cell_type": "code",
   "execution_count": 25,
   "metadata": {
    "scrolled": true
   },
   "outputs": [
    {
     "data": {
      "text/plain": [
       "array([[ 1.        , -0.20911694],\n",
       "       [-0.20911694,  1.        ]])"
      ]
     },
     "execution_count": 25,
     "metadata": {},
     "output_type": "execute_result"
    }
   ],
   "source": [
    "sig_corr(sample.T, np.average(sbkg.T, axis=1), np.cov(sbkg.T), p)"
   ]
  },
  {
   "cell_type": "markdown",
   "metadata": {},
   "source": [
    "# Conclusion\n",
    "The last few tests show that it is indeed possible to determine the covariance (and the correlation) matrix from a mixed sample, if some knowledge about the composition of the mixed sample and the background sample are present. It might be possible that the $C_S$ matrix calculated here is equivalent to the weighted covariance, which would then serve as a \"proof\" that it is possible to use it even with negative weights, as long as the weights fulfill some conditions. However, I did not check that further as all I needed is already here."
   ]
  }
 ],
 "metadata": {
  "kernelspec": {
   "display_name": "Python 2",
   "language": "python",
   "name": "python2"
  },
  "language_info": {
   "codemirror_mode": {
    "name": "ipython",
    "version": 2
   },
   "file_extension": ".py",
   "mimetype": "text/x-python",
   "name": "python",
   "nbconvert_exporter": "python",
   "pygments_lexer": "ipython2",
   "version": "2.7.12"
  },
  "toc": {
   "colors": {
    "hover_highlight": "#DAA520",
    "navigate_num": "#000000",
    "navigate_text": "#333333",
    "running_highlight": "#FF0000",
    "selected_highlight": "#FFD700",
    "sidebar_border": "#EEEEEE",
    "wrapper_background": "#FFFFFF"
   },
   "moveMenuLeft": true,
   "nav_menu": {
    "height": "153px",
    "width": "252px"
   },
   "navigate_menu": true,
   "number_sections": true,
   "sideBar": true,
   "threshold": 4,
   "toc_cell": false,
   "toc_section_display": "block",
   "toc_window_display": false,
   "widenNotebook": false
  }
 },
 "nbformat": 4,
 "nbformat_minor": 2
}
